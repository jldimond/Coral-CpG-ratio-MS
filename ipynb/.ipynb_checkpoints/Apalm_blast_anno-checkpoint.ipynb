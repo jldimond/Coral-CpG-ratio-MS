{
 "cells": [
  {
   "cell_type": "markdown",
   "metadata": {},
   "source": [
    "# Blast and GOSlim annotation of *Acropora palmata* transcriptome "
   ]
  },
  {
   "cell_type": "markdown",
   "metadata": {},
   "source": [
    "This workflow details the annotation of an *Acropora palmata* [transcriptome](https://usegalaxy.org/datasets/cb51c4a06d7ae94e/display?to_ext=fasta)\n",
    "\n",
    "The workflow assumes that you already have a blastx database in place, and that you use SQLshare to create the final annotation. Information on setting up a blast database can be found [here](http://nbviewer.ipython.org/github/sr320/austral/blob/master/modules/01-Piura-Annotation/01-Local_BLAST.ipynb). Information on SQLshare can be found [here](https://sqlshare.escience.washington.edu/). "
   ]
  },
  {
   "cell_type": "code",
   "execution_count": null,
   "metadata": {
    "collapsed": false
   },
   "outputs": [],
   "source": [
    "#Create directories\n",
    "!mkdir ./Data\n",
    "!mkdir ./Data/Apalm\n",
    "!mkdir ./Analyses\n",
    "!mkdir ./Analyses/Apalm"
   ]
  },
  {
   "cell_type": "code",
   "execution_count": null,
   "metadata": {
    "collapsed": false
   },
   "outputs": [],
   "source": [
    "cd ./Data/Apalm"
   ]
  },
  {
   "cell_type": "code",
   "execution_count": 2,
   "metadata": {
    "collapsed": false
   },
   "outputs": [
    {
     "ename": "SyntaxError",
     "evalue": "invalid syntax (<ipython-input-2-bfcf614d403f>, line 2)",
     "output_type": "error",
     "traceback": [
      "\u001b[0;36m  File \u001b[0;32m\"<ipython-input-2-bfcf614d403f>\"\u001b[0;36m, line \u001b[0;32m2\u001b[0m\n\u001b[0;31m    wget https://usegalaxy.org/datasets/cb51c4a06d7ae94e/display?to_ext=fasta\u001b[0m\n\u001b[0m             ^\u001b[0m\n\u001b[0;31mSyntaxError\u001b[0m\u001b[0;31m:\u001b[0m invalid syntax\n"
     ]
    }
   ],
   "source": [
    "#Obtain FASTA file\n",
    "!wget https://usegalaxy.org/datasets/cb51c4a06d7ae94e/display?to_ext=fasta"
   ]
  },
  {
   "cell_type": "code",
   "execution_count": null,
   "metadata": {
    "collapsed": false
   },
   "outputs": [],
   "source": [
    "!head Galaxy5-[Apalmata_assembled.fasta].fasta"
   ]
  },
  {
   "cell_type": "code",
   "execution_count": null,
   "metadata": {
    "collapsed": false
   },
   "outputs": [],
   "source": [
    "!tail Galaxy5-[Apalmata_assembled.fasta].fasta"
   ]
  },
  {
   "cell_type": "code",
   "execution_count": null,
   "metadata": {
    "collapsed": false
   },
   "outputs": [],
   "source": [
    "#fasta is full of double quotes (\") in front of some of the (>) ...Removing \" from fasta\n",
    "!sed 's/\"//g' Galaxy5-[Apalmata_assembled.fasta].fasta > Apalm.fasta"
   ]
  },
  {
   "cell_type": "code",
   "execution_count": null,
   "metadata": {
    "collapsed": false
   },
   "outputs": [],
   "source": [
    "!head Apalm.fasta"
   ]
  },
  {
   "cell_type": "code",
   "execution_count": null,
   "metadata": {
    "collapsed": false
   },
   "outputs": [],
   "source": [
    "#Count number of seqs\n",
    "!fgrep -c \">\" Apalm.fasta"
   ]
  },
  {
   "cell_type": "markdown",
   "metadata": {},
   "source": [
    "### Blastx query"
   ]
  },
  {
   "cell_type": "code",
   "execution_count": null,
   "metadata": {
    "collapsed": false
   },
   "outputs": [],
   "source": [
    "!blastx \\\n",
    "-query Apalm.fasta \\ #FASTA file\n",
    "-db ~blast/db/uniprot_sprot \\ #Use your blastx database address\n",
    "-max_target_seqs 1 \\ #maximum number of target sequences = 1\n",
    "-max_hsps 1 \\ #maximum number of high-scoring pairs = 1\n",
    "-outfmt 6 \\ #output format = tabular\n",
    "-evalue 1E-05 \\ #E-value = 10^-5\n",
    "-num_threads 8 \\ #number of threads = 8\n",
    "-out ../Analyses/Apalm/Apalm_blastx_uniprot.tab \\ #Direct output to analyses directory\n",
    "2> ../Analyses/Apalm/Apalm_blastx_uniprot.error #Direct standard error output to its own file"
   ]
  },
  {
   "cell_type": "code",
   "execution_count": null,
   "metadata": {
    "collapsed": false
   },
   "outputs": [],
   "source": [
    "#Checking head and tail of the output file.\n",
    "!head -10 ./Analyses/Apalm/Apalm_blastx_uniprot.tab"
   ]
  },
  {
   "cell_type": "code",
   "execution_count": null,
   "metadata": {
    "collapsed": false
   },
   "outputs": [],
   "source": [
    "#Comparison of the tail with original FASTA should give an idea of whether\n",
    "#the blast job is complete (note contig25409_16070 present in both)\n",
    "!tail -10 ./Analyses/Apalm/Apalm_blastx_uniprot.tab"
   ]
  },
  {
   "cell_type": "code",
   "execution_count": null,
   "metadata": {
    "collapsed": false
   },
   "outputs": [],
   "source": [
    "!wc ./Analyses/Apalm/Apalm_blastx_uniprot.tab"
   ]
  },
  {
   "cell_type": "code",
   "execution_count": null,
   "metadata": {
    "collapsed": false
   },
   "outputs": [],
   "source": [
    "#Removing pipes and converted to tab-delimited file\n",
    "!tr '|' \"\\t\" <./Analyses/Apalm/Apalm_blastx_uniprot.tab> \\\n",
    "/./Analyses/Apalm/Apalm_blastx_uniprot_sql.tab\n",
    "!head -1 ./Analyses/Apalm/Apalm_blastx_uniprot.tab\n",
    "!echo SQLShare ready version has Pipes converted to Tabs ....\n",
    "!head -1 ./Analyses/Apalm/Apalm_blastx_uniprot_sql.tab"
   ]
  },
  {
   "cell_type": "markdown",
   "metadata": {},
   "source": [
    "### Manually uploading Apalm_blastx_uniprot_sql.tab to SQLShare and joining with GOSlim"
   ]
  },
  {
   "cell_type": "markdown",
   "metadata": {},
   "source": [
    "`SELECT Distinct Column1 as ContigID, GOSlim_bin FROM\n",
    "  [jldimond@washington.edu].[Apalm_blastx_uniprot_sql.tab]anno\n",
    "  left join [sr320@washington.edu].[SPID and GO Numbers]go\n",
    "  on anno.Column3=go.SPID\n",
    "  left join [sr320@washington.edu].[GO_to_GOslim]slim\n",
    "  on go.GOID=slim.GO_id where aspect like 'P'`"
   ]
  },
  {
   "cell_type": "markdown",
   "metadata": {},
   "source": [
    "#### Output file downloaded to ./Analyses/Apalm: Apalm_GOSlim.csv"
   ]
  },
  {
   "cell_type": "code",
   "execution_count": 17,
   "metadata": {
    "collapsed": false
   },
   "outputs": [
    {
     "name": "stdout",
     "output_type": "stream",
     "text": [
      "ContigID,GOSlim_bin\r",
      "\r\n",
      "contig135011_153678_153601,cell organization and biogenesis\r",
      "\r\n",
      "contig135011_153678_153601,other biological processes\r",
      "\r\n",
      "contig135011_153678_153601,developmental processes\r",
      "\r\n",
      "contig69684,protein metabolism\r",
      "\r\n",
      "contig113621,protein metabolism\r",
      "\r\n",
      "contig97647,protein metabolism\r",
      "\r\n",
      "contig199902,protein metabolism\r",
      "\r\n",
      "contig78855,other biological processes\r",
      "\r\n",
      "contig8505_94477,DNA metabolism\r",
      "\r\n"
     ]
    }
   ],
   "source": [
    "!head -10 ./Analyses/Apalm/Apalm_GOSlim.csv"
   ]
  },
  {
   "cell_type": "code",
   "execution_count": 18,
   "metadata": {
    "collapsed": false
   },
   "outputs": [],
   "source": [
    "#Converting from comma to tab delimited\n",
    "!tr ',' \"\\t\" <./Analyses/Apalm/Apalm_GOSlim.csv> ./Analyses/Apalm/Apalm_GOSlim.tab"
   ]
  },
  {
   "cell_type": "code",
   "execution_count": 19,
   "metadata": {
    "collapsed": false
   },
   "outputs": [
    {
     "name": "stdout",
     "output_type": "stream",
     "text": [
      "ContigID\tGOSlim_bin\r",
      "\r\n",
      "contig135011_153678_153601\tcell organization and biogenesis\r",
      "\r\n",
      "contig135011_153678_153601\tother biological processes\r",
      "\r\n",
      "contig135011_153678_153601\tdevelopmental processes\r",
      "\r\n",
      "contig69684\tprotein metabolism\r",
      "\r\n",
      "contig113621\tprotein metabolism\r",
      "\r\n",
      "contig97647\tprotein metabolism\r",
      "\r\n",
      "contig199902\tprotein metabolism\r",
      "\r\n",
      "contig78855\tother biological processes\r",
      "\r\n",
      "contig8505_94477\tDNA metabolism\r",
      "\r\n"
     ]
    }
   ],
   "source": [
    "!head -10 ./Analyses/Apalm/Apalm_GOSlim.tab"
   ]
  }
 ],
 "metadata": {
  "kernelspec": {
   "display_name": "Python 2",
   "language": "python",
   "name": "python2"
  },
  "language_info": {
   "codemirror_mode": {
    "name": "ipython",
    "version": 2
   },
   "file_extension": ".py",
   "mimetype": "text/x-python",
   "name": "python",
   "nbconvert_exporter": "python",
   "pygments_lexer": "ipython2",
   "version": "2.7.9"
  }
 },
 "nbformat": 4,
 "nbformat_minor": 0
}
