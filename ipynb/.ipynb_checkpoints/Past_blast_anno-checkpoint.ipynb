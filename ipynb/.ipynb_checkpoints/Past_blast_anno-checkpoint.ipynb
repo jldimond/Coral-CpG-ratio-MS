{
 "cells": [
  {
   "cell_type": "markdown",
   "metadata": {},
   "source": [
    "# Blast and GOSlim annotation of *Porites astreoides* transcriptome  "
   ]
  },
  {
   "cell_type": "markdown",
   "metadata": {},
   "source": [
    "This workflow details the annotation of an *Porites astreoides* [transcriptome](https://dl.dropboxusercontent.com/u/37523721/pastreoides_transcriptome_july2014.zip)\n",
    "\n",
    "The workflow assumes that you already have a blastx database in place, and that you use SQLshare to create the final annotation. Information on setting up a blast database can be found [here](http://nbviewer.ipython.org/github/sr320/austral/blob/master/modules/01-Piura-Annotation/01-Local_BLAST.ipynb). Information on SQLshare can be found [here](https://sqlshare.escience.washington.edu/). "
   ]
  },
  {
   "cell_type": "code",
   "execution_count": 1,
   "metadata": {
    "collapsed": false
   },
   "outputs": [],
   "source": [
    "#Create directories\n",
    "!mkdir ./Data\n",
    "!mkdir ./Data/Past\n",
    "!mkdir ./Analyses\n",
    "!mkdir ./Analyses/Past"
   ]
  },
  {
   "cell_type": "code",
   "execution_count": 3,
   "metadata": {
    "collapsed": false
   },
   "outputs": [
    {
     "name": "stdout",
     "output_type": "stream",
     "text": [
      "/Users/jd/Documents/Projects/Coral-CpG-ratio-MS/data/Past\n"
     ]
    }
   ],
   "source": [
    "cd /Users/jd/Documents/Projects/Coral-CpG-ratio-MS/data/Past"
   ]
  },
  {
   "cell_type": "code",
   "execution_count": null,
   "metadata": {
    "collapsed": false
   },
   "outputs": [],
   "source": [
    "#Obtain FASTA file\n",
    "!wget https://dl.dropboxusercontent.com/u/37523721/pastreoides_transcriptome_july2014.zip"
   ]
  },
  {
   "cell_type": "markdown",
   "metadata": {},
   "source": [
    "#### File past.fasta moved from downloaded directory to ./Analyses/Past"
   ]
  },
  {
   "cell_type": "code",
   "execution_count": 4,
   "metadata": {
    "collapsed": false
   },
   "outputs": [
    {
     "name": "stdout",
     "output_type": "stream",
     "text": [
      ">GCKDGN101CF7JK gene=GCKDGN101CF7JK\r\n",
      "GCAGTTCACATGACCCGAGGCTAGGAGATCCCATGAGATAGCACAGTGCAAGCGTGACTCATTGCACATGTGCTTGCAACGCGACTGGCGTCTTCTCGACGAGCTCCTGAGTATTTTCACAAGATTGGCCCCTATTTCTCAATGCCGTTGGGAAAATTATTGGGCCGTAGAAAACAGAATATCACACTAATGTAGTTGGTAGGTTAGCAAAACCAGTACCAGC\r\n",
      ">GCKDGN101CAZ1A gene=GCKDGN101CAZ1A Gene=\"Defense-related protein containing SCP domain ; pathogenesis-related protein 1 E=1e-13\"\r\n",
      "GCAGTTGACTGTCATTTCCCAGGGGACGATACAGTGCCACCACAATGACGTACTTACCGCTGGGGCTTGGCGCTGCCCCCATGCCTAGCTGATTGGTGTCTCTCCATATCATCTGTGTGAAGTGCTTTACTTTGTCATTGAGAACTGGATAGGAGAAGCTGTACGCTTTCTTCTCGCCGTACCATATAGTCGTGGCCTTGAGAGGTGCTCTCTGCAGATCGTGCCATATCTGTGCAATGTTTTCACCCGCTGGCTCGCCTTGGAAAGTGGACGGGTCACTGGCTACAGACTCTGCTATATTCTGCGCTTGTTCTGCTAGAGTGGCATTCCATTGTAAAGGGNGGACGTGATGAAGTGATCTGA\r\n",
      ">GCKDGN101ANI4S gene=GCKDGN101ANI4S Gene=\"Pterin carbinolamine dehydratase PCBD/dimerization cofactor of HNF1\"\r\n",
      "TGTCCTGTCTTTCTTCGTTGTTCTTCTTGACCTGCTATACACATTAAACCACTCTGGGTGATGATCCATCTTCTCCGACATGAGAGCCACGCGGCTCATGAAACCAAATGCCTGGTTGAAATTCTTGAACTTAAACTCTTTGTAAATGGCATCACGGCCTTCGACATCAGTCCACCCTGAGGACTTCAGAGGCTGAACCTCTGTTTCCCTTTCC\r\n",
      ">GCKDGN101BV6U3 gene=GCKDGN101BV6U3 Gene=\"Chondroitin 6-sulfotransferase and related sulfotransferases ; dermatan 4-sulfotransferase 1 [EC:2.8.2.-] E=5e-17\"\r\n",
      "GCAGTATAGTCGTAGTTGATAGCGCATGGGTAGCATGTCTGGTGCGCAGGGCGCCAGTGCATATCCCACATAAACTTATTTGGCGATGTGTCAATGTATGACGTAAATTCGTCAAACGTTGGCCCAGAACACTCAACGCAACTGTCTGTTTTTCCCGCAGAACGACGAACCTTATTGACTATATCTCTGCCTAGCTTATTATACAATTGAGTCGTTTTTCCGACGAACTTGTCCCTATAGGCTGATAACAGTCTTTCGAAAGGTTCCCAAACAAAGA\r\n",
      ">GCKDGN101BQG8Q gene=GCKDGN101BQG8Q\r\n",
      "GCAGTATAACAGTAAATTGTTTCTACTCTCCACTTACCAAAGGAAACCATCAATATGACTGCCGTTTCTTTCTTTCAGTTCCATGTCTCGGTTACATTGAGCGCAGATCAGCGGGTTTGCCAAAAGAGATCGTTGTTGAAGCCACTGAATCAAATTGAGGCGTGGGCCCCGTTGCAAATCAATACATTCGTAAAGATCCATCTCCTTTATCATACGATGGTGCAAACGTCACTTAAATCGACTACCAAAATAGGGAGTAAAAACAGACCAGCTTATTCGAGGGTGGAGAAGTCCTATTAATCAACAATTCTTATGTATATGCGTAAGAGAAGACCGACTCCAGTGAACTACGTTTTGATTGGTTGAGGGTGATGTGGTGAAATAATTCTCATGTGAGCTCGTTTTGTTATCA\r\n"
     ]
    }
   ],
   "source": [
    "!head past.fasta"
   ]
  },
  {
   "cell_type": "code",
   "execution_count": 5,
   "metadata": {
    "collapsed": false
   },
   "outputs": [
    {
     "name": "stdout",
     "output_type": "stream",
     "text": [
      ">isotig29249 gene=isogroup27517\r\n",
      "TAGGAAGTGCTTTGAAACAAGCTATAGCAGTGCCAATACAATACAGTCGAACCTGtATTAAGCGGACACCCTCTATTAAGCGGACAGTAGCCGAAGTCCCAAAATTaCTTGAAATGAAACCTTTATtAAGCGGACACCTCTACTAAGCGGACGCGGACACCTAAAAaGTACCTGAAATGGTCATTTCTATtGTTTCCAACCTGTATTAAACGGACACTTGTAATTAAATTCCACCACCCAACgTgctAG\r\n",
      ">isotig32730 gene=isogroup30998 Gene=\"Predicted ATPase\"\r\n",
      "AaTGGaCACGcTtCTTGTTTAAGACAGGAATACTGtCaTAAAAGATGTCCATTAaCATGGTTTTTCCACTTCCcAcTCCTCCGTGGAGATAGaGTCCCTGAGgTGCTTCCTGTGGTTGTGAat\r\n",
      ">isotig30623 gene=isogroup28891 Gene=\"Sodium-neurotransmitter symporter ; solute carrier family 6 (neurotransmitter transporter, GABA) member 1 E=2e-37\"\r\n",
      "AACAAAGCCCAGCCAAGAATCACCGTGTAGTAAATGTTGATATACTGCATTACAAGCACACCGGCATAGCCAATTCCTtGGAAAagTGGACAGATTTtCCAAGCCGTGaTTCcACcTTgaCTCGTATATTGCCCCAGACCaatctccatcactaaaacgggtacaccagccacaatcaaacaaagcaagtagggaatgagaaaacaacc\r\n",
      ">isotig30838 gene=isogroup29106\r\n",
      "ACAGTCTGACTGTTGGAAGTGTGAAaGTTGATTTaCTTTGTAGAACTTTGCACTTGTAAGcctGTTTGTCatgtcttatgtgagaatttaaaggggctgtgtcatggatgtcaagttcattttctcaacattgcaaattatgcttccttatgcgctacagaacttaacaatagcgaaaagaaattaccaaatgataaaaca\r\n",
      ">isotig32258 gene=isogroup30526\r\n",
      "GCAGTTTGAAGTGTAATTTTAATATCATTTTtGGCTAAACTCTAGCTCCAGGCTCCTCTCTGTGCAATACCTCGACAACAAAGTTACCTGCATGAACTGAAAACTCTATTATAGTAGAGTTCATGGTCAAACTCAGTTGGGAGCA\r\n"
     ]
    }
   ],
   "source": [
    "!tail past.fasta"
   ]
  },
  {
   "cell_type": "code",
   "execution_count": 6,
   "metadata": {
    "collapsed": false
   },
   "outputs": [
    {
     "name": "stdout",
     "output_type": "stream",
     "text": [
      "30740\r\n"
     ]
    }
   ],
   "source": [
    "!fgrep -c \">\" past.fasta"
   ]
  },
  {
   "cell_type": "markdown",
   "metadata": {},
   "source": [
    "### Blastx query"
   ]
  },
  {
   "cell_type": "code",
   "execution_count": null,
   "metadata": {
    "collapsed": false
   },
   "outputs": [],
   "source": [
    "!blastx \\\n",
    "-query past.fasta \\ #FASTA file\n",
    "-db ~blast/db/uniprot_sprot \\ #Use your blastx database address\n",
    "-max_target_seqs 1 \\ #maximum number of target sequences = 1\n",
    "-max_hsps 1 \\ #maximum number of high-scoring pairs = 1\n",
    "-outfmt 6 \\ #output format = tabular\n",
    "-evalue 1E-05 \\ #E-value = 10^-5\n",
    "-num_threads 8 \\ #number of threads = 8\n",
    "-out ../Analyses/Past/Past_blastx_uniprot.tab \\ #Direct output to analyses directory\n",
    "2> ../Analyses/Past/Past_blastx_uniprot.error #Direct standard error output to its own file"
   ]
  },
  {
   "cell_type": "code",
   "execution_count": 8,
   "metadata": {
    "collapsed": false
   },
   "outputs": [
    {
     "name": "stdout",
     "output_type": "stream",
     "text": [
      "GCKDGN101CAZ1A\tsp|Q9CYL5|GAPR1_MOUSE\t34.43\t122\t70\t4\t361\t14\t21\t138\t2e-14\t70.1\r\n",
      "GCKDGN101ANI4S\tsp|P0C8L6|PHS_HYPDU\t71.19\t59\t17\t0\t213\t37\t9\t67\t4e-26\t97.4\r\n",
      "GCKDGN101BV6U3\tsp|Q7L1S5|CHST9_HUMAN\t38.46\t91\t55\t1\t275\t3\t278\t367\t3e-14\t71.2\r\n",
      "GCKDGN101CG9W2\tsp|Q9NQX0|PRDM6_HUMAN\t50.59\t85\t39\t2\t252\t7\t247\t331\t3e-22\t94.0\r\n",
      "GCKDGN101CINM3\tsp|O43913|ORC5_HUMAN\t60.19\t103\t37\t1\t5\t313\t233\t331\t1e-35\t  131\r\n",
      "GCKDGN101BXQES\tsp|P42690|SRK4_SPOLA\t79.01\t81\t17\t0\t303\t61\t289\t369\t3e-40\t  144\r\n",
      "GCKDGN101A8LTX\tsp|Q8NDG6|TDRD9_HUMAN\t39.73\t73\t41\t2\t100\t312\t682\t753\t4e-09\t58.2\r\n",
      "GCKDGN101A9IY8\tsp|Q9BY08|EBPL_HUMAN\t39.34\t61\t36\t1\t237\t55\t83\t142\t7e-06\t47.0\r\n",
      "GCKDGN101A9QGN\tsp|O42430|CP1A1_LIMLI\t50.41\t123\t56\t2\t358\t2\t342\t463\t3e-36\t  133\r\n",
      "GCKDGN101B9AAV\tsp|Q92979|NEP1_HUMAN\t64.58\t48\t17\t0\t144\t1\t37\t84\t6e-15\t69.3\r\n"
     ]
    }
   ],
   "source": [
    "!head -10 /Users/jd/Documents/Projects/Coral-CpG-ratio-MS/analyses/Past/Past_blastx_uniprot.tab"
   ]
  },
  {
   "cell_type": "code",
   "execution_count": 9,
   "metadata": {
    "collapsed": false,
    "scrolled": true
   },
   "outputs": [
    {
     "name": "stdout",
     "output_type": "stream",
     "text": [
      "isotig28863\tsp|Q8BTJ4|ENPP4_MOUSE\t55.36\t56\t25\t0\t176\t9\t337\t392\t6e-18\t81.3\r\n",
      "isotig27760\tsp|G8HTB6|ZPP_ACRMI\t55.00\t80\t34\t1\t245\t6\t65\t142\t1e-20\t88.6\r\n",
      "isotig29504\tsp|Q9VAC5|ADA17_DROME\t60.26\t78\t30\t1\t231\t1\t338\t415\t2e-26\t  105\r\n",
      "isotig26983\tsp|Q8K010|OPLA_MOUSE\t71.59\t88\t25\t0\t295\t32\t1017\t1104\t4e-36\t  135\r\n",
      "isotig28666\tsp|Q5ZL38|SGF29_CHICK\t80.00\t30\t6\t0\t263\t174\t264\t293\t2e-09\t56.2\r\n",
      "isotig27604\tsp|P38795|NADE_YEAST\t67.42\t89\t29\t0\t278\t12\t175\t263\t2e-41\t  148\r\n",
      "isotig28804\tsp|Q6DCP1|FXRD1_XENLA\t42.86\t63\t31\t3\t31\t213\t327\t386\t2e-06\t48.5\r\n",
      "isotig29116\tsp|Q6ZQ88|KDM1A_MOUSE\t71.08\t83\t23\t1\t251\t3\t259\t340\t7e-26\t  105\r\n",
      "isotig32730\tsp|P32317|AFG1_YEAST\t65.71\t35\t11\t1\t103\t2\t119\t153\t2e-08\t52.4\r\n",
      "isotig30623\tsp|A5PJX7|S6A13_BOVIN\t60.00\t70\t27\t1\t209\t3\t68\t137\t3e-21\t90.5\r\n"
     ]
    }
   ],
   "source": [
    "!tail -10 /Users/jd/Documents/Projects/Coral-CpG-ratio-MS/analyses/Past/Past_blastx_uniprot.tab"
   ]
  },
  {
   "cell_type": "code",
   "execution_count": 10,
   "metadata": {
    "collapsed": false
   },
   "outputs": [
    {
     "name": "stdout",
     "output_type": "stream",
     "text": [
      "   13789  165468 1031497 /Users/jd/Documents/Projects/Coral-CpG-ratio-MS/analyses/Past/Past_blastx_uniprot.tab\r\n"
     ]
    }
   ],
   "source": [
    "!wc /Users/jd/Documents/Projects/Coral-CpG-ratio-MS/analyses/Past/Past_blastx_uniprot.tab"
   ]
  },
  {
   "cell_type": "code",
   "execution_count": 11,
   "metadata": {
    "collapsed": false
   },
   "outputs": [
    {
     "name": "stdout",
     "output_type": "stream",
     "text": [
      "GCKDGN101CAZ1A\tsp|Q9CYL5|GAPR1_MOUSE\t34.43\t122\t70\t4\t361\t14\t21\t138\t2e-14\t70.1\n",
      "SQLShare ready version has Pipes converted to Tabs ....\n",
      "GCKDGN101CAZ1A\tsp\tQ9CYL5\tGAPR1_MOUSE\t34.43\t122\t70\t4\t361\t14\t21\t138\t2e-14\t70.1\n"
     ]
    }
   ],
   "source": [
    "#Removing pipes and converted to tab-delimited file\n",
    "!tr '|' \"\\t\" </Users/jd/Documents/Projects/Coral-CpG-ratio-MS/analyses/Past/Past_blastx_uniprot.tab> \\\n",
    "/Users/jd/Documents/Projects/Coral-CpG-ratio-MS/analyses/Past/Past_blastx_uniprot.sql.tab\n",
    "!head -1 /Users/jd/Documents/Projects/Coral-CpG-ratio-MS/analyses/Past/Past_blastx_uniprot.tab\n",
    "!echo SQLShare ready version has Pipes converted to Tabs ....\n",
    "!head -1 /Users/jd/Documents/Projects/Coral-CpG-ratio-MS/analyses/Past/Past_blastx_uniprot.sql.tab"
   ]
  },
  {
   "cell_type": "markdown",
   "metadata": {},
   "source": [
    "### Manually uploading Past_blastx_uniprot_sql.tab to SQLShare and joining with GOSlim:"
   ]
  },
  {
   "cell_type": "markdown",
   "metadata": {},
   "source": [
    "`SELECT Distinct Column1 as ContigID, GOSlim_bin\n",
    "  FROM [jldimond@washington.edu].[Past_blastx_uniprot_sql.tab]anno\n",
    "  left join [sr320@washington.edu].[SPID and GO Numbers]go\n",
    "  on anno.Column3=go.SPID\n",
    "  left join [sr320@washington.edu].[GO_to_GOslim]slim\n",
    "  on go.GOID=slim.GO_id where aspect like 'P'`"
   ]
  },
  {
   "cell_type": "code",
   "execution_count": null,
   "metadata": {
    "collapsed": false
   },
   "outputs": [],
   "source": [
    "Output file downloaded to ./Analyses/Past: Past_GOSlim.csv"
   ]
  },
  {
   "cell_type": "code",
   "execution_count": 13,
   "metadata": {
    "collapsed": false
   },
   "outputs": [
    {
     "name": "stdout",
     "output_type": "stream",
     "text": [
      "ContigID,GOSlim_bin\r",
      "\r\n",
      "GCKDGN103GZQ3J,developmental processes\r",
      "\r\n",
      "isotig03630,transport\r",
      "\r\n",
      "GCKDGN103G9D8B,stress response\r",
      "\r\n",
      "isotig20992,developmental processes\r",
      "\r\n",
      "isotig30372,DNA metabolism\r",
      "\r\n",
      "isotig19723,developmental processes\r",
      "\r\n",
      "isotig20617,cell cycle and proliferation\r",
      "\r\n",
      "GCKDGN101BS14I,DNA metabolism\r",
      "\r\n",
      "isotig07465,stress response\r",
      "\r\n"
     ]
    }
   ],
   "source": [
    "!head -10 /Users/jd/Documents/Projects/Coral-CpG-ratio-MS/analyses/Past/Past_GOSlim.csv"
   ]
  },
  {
   "cell_type": "code",
   "execution_count": 14,
   "metadata": {
    "collapsed": false
   },
   "outputs": [],
   "source": [
    "#Replacing commas with tabs \n",
    "!tr ',' \"\\t\" </Users/jd/Documents/Projects/Coral-CpG-ratio-MS/analyses/Past/Past_GOSlim.csv> /Users/jd/Documents/Projects/Coral-CpG-ratio-MS/analyses/Past/Past_GOSlim.tab"
   ]
  },
  {
   "cell_type": "code",
   "execution_count": 15,
   "metadata": {
    "collapsed": false
   },
   "outputs": [
    {
     "name": "stdout",
     "output_type": "stream",
     "text": [
      "ContigID\tGOSlim_bin\r",
      "\r\n",
      "GCKDGN103GZQ3J\tdevelopmental processes\r",
      "\r\n",
      "isotig03630\ttransport\r",
      "\r\n",
      "GCKDGN103G9D8B\tstress response\r",
      "\r\n",
      "isotig20992\tdevelopmental processes\r",
      "\r\n",
      "isotig30372\tDNA metabolism\r",
      "\r\n",
      "isotig19723\tdevelopmental processes\r",
      "\r\n",
      "isotig20617\tcell cycle and proliferation\r",
      "\r\n",
      "GCKDGN101BS14I\tDNA metabolism\r",
      "\r\n",
      "isotig07465\tstress response\r",
      "\r\n"
     ]
    }
   ],
   "source": [
    "!head /Users/jd/Documents/Projects/Coral-CpG-ratio-MS/analyses/Past/Past_GOSlim.tab"
   ]
  },
  {
   "cell_type": "code",
   "execution_count": null,
   "metadata": {
    "collapsed": false
   },
   "outputs": [],
   "source": []
  }
 ],
 "metadata": {
  "kernelspec": {
   "display_name": "Python 2",
   "language": "python",
   "name": "python2"
  },
  "language_info": {
   "codemirror_mode": {
    "name": "ipython",
    "version": 2
   },
   "file_extension": ".py",
   "mimetype": "text/x-python",
   "name": "python",
   "nbconvert_exporter": "python",
   "pygments_lexer": "ipython2",
   "version": "2.7.9"
  }
 },
 "nbformat": 4,
 "nbformat_minor": 0
}
