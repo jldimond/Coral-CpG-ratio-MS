{
 "metadata": {
  "name": "",
  "signature": "sha256:7c90acf524d9619904fd8a1731191f90c4ebd86f90e1eaface22c805b10cd424"
 },
 "nbformat": 3,
 "nbformat_minor": 0,
 "worksheets": [
  {
   "cells": [
    {
     "cell_type": "code",
     "collapsed": false,
     "input": [
      "Instructions: Place "
     ],
     "language": "python",
     "metadata": {},
     "outputs": []
    },
    {
     "cell_type": "code",
     "collapsed": false,
     "input": [
      "#species prefix\n",
      "sp=\"Amil\"\n",
      "fnm=\"Amil_Moya.fasta\""
     ],
     "language": "python",
     "metadata": {},
     "outputs": [],
     "prompt_number": 1
    },
    {
     "cell_type": "code",
     "collapsed": false,
     "input": [
      "#cd /Users/sr320/git-repos/paper-Coral-CpG-ratio/ipynb"
     ],
     "language": "python",
     "metadata": {},
     "outputs": [
      {
       "output_type": "stream",
       "stream": "stdout",
       "text": [
        "/Users/sr320/git-repos/paper-Coral-CpG-ratio/ipynb\n"
       ]
      }
     ],
     "prompt_number": 24
    },
    {
     "cell_type": "code",
     "collapsed": false,
     "input": [
      "#creates subdirectory in analyses\n",
      "!mkdir ../analyses/{sp}\n"
     ],
     "language": "python",
     "metadata": {},
     "outputs": [],
     "prompt_number": 2
    },
    {
     "cell_type": "code",
     "collapsed": false,
     "input": [
      "#copies fast file from data directory to analyses directory\n",
      "!cp ../data/{sp}/{fnm} ../analyses/{sp}/"
     ],
     "language": "python",
     "metadata": {},
     "outputs": [],
     "prompt_number": 3
    },
    {
     "cell_type": "code",
     "collapsed": false,
     "input": [
      "#duplicates fasta to rename generically \n",
      "!cp ../analyses/{sp}/{fnm} ../analyses/{sp}/query.fasta "
     ],
     "language": "python",
     "metadata": {},
     "outputs": [],
     "prompt_number": 4
    },
    {
     "cell_type": "code",
     "collapsed": false,
     "input": [
      "cd ../analyses/{sp}"
     ],
     "language": "python",
     "metadata": {},
     "outputs": [
      {
       "output_type": "stream",
       "stream": "stdout",
       "text": [
        "/Users/sr320/git-repos/paper-Coral-CpG/analyses/Amil\n"
       ]
      }
     ],
     "prompt_number": 5
    },
    {
     "cell_type": "code",
     "collapsed": false,
     "input": [
      "!../scripts/fasta-splitter.pl \\\n",
      "--n-parts 10 \\\n",
      "query.fasta "
     ],
     "language": "python",
     "metadata": {},
     "outputs": [
      {
       "output_type": "stream",
       "stream": "stdout",
       "text": [
        "query.fasta"
       ]
      },
      {
       "output_type": "stream",
       "stream": "stdout",
       "text": [
        ": 52963 sequences, 71250280 bp => dividing into 10 parts ."
       ]
      },
      {
       "output_type": "stream",
       "stream": "stdout",
       "text": [
        "."
       ]
      },
      {
       "output_type": "stream",
       "stream": "stdout",
       "text": [
        "."
       ]
      },
      {
       "output_type": "stream",
       "stream": "stdout",
       "text": [
        "."
       ]
      },
      {
       "output_type": "stream",
       "stream": "stdout",
       "text": [
        "."
       ]
      },
      {
       "output_type": "stream",
       "stream": "stdout",
       "text": [
        "."
       ]
      },
      {
       "output_type": "stream",
       "stream": "stdout",
       "text": [
        "."
       ]
      },
      {
       "output_type": "stream",
       "stream": "stdout",
       "text": [
        "."
       ]
      },
      {
       "output_type": "stream",
       "stream": "stdout",
       "text": [
        "."
       ]
      },
      {
       "output_type": "stream",
       "stream": "stdout",
       "text": [
        "."
       ]
      },
      {
       "output_type": "stream",
       "stream": "stdout",
       "text": [
        " OK\r\n",
        "All done, 2 seconds elapsed\r\n"
       ]
      }
     ],
     "prompt_number": 7
    },
    {
     "cell_type": "code",
     "collapsed": false,
     "input": [
      "%%bash\n",
      "for f in query.part*\n",
      "do\n",
      "blastx \\\n",
      "-query $f \\\n",
      "-db /Users/sr320/data-genomic/blast/db/uniprot_sprot_r2015_01 \\\n",
      "-evalue 1e-5 \\\n",
      "-max_target_seqs 1 \\\n",
      "-max_hsps 1 \\\n",
      "-outfmt 6 \\\n",
      "-num_threads 8 \\\n",
      "-out blastout_\"$f\"_sprot \\\n",
      "2> stderr-blastout_\"$f\"\n",
      "done"
     ],
     "language": "python",
     "metadata": {},
     "outputs": []
    },
    {
     "cell_type": "code",
     "collapsed": false,
     "input": [
      "!cat blastout* > blastx_sprot.tab\n"
     ],
     "language": "python",
     "metadata": {},
     "outputs": []
    },
    {
     "cell_type": "code",
     "collapsed": false,
     "input": [
      "!tr '|' \"\\t\" <blastx_sprot.tab> blastx_sprot.sql\n"
     ],
     "language": "python",
     "metadata": {},
     "outputs": []
    },
    {
     "cell_type": "code",
     "collapsed": false,
     "input": [
      "!python {sqls}singleupload.py \\\n",
      "-d _blast_sprot \\\n",
      "blastx_sprot.sql"
     ],
     "language": "python",
     "metadata": {},
     "outputs": []
    },
    {
     "cell_type": "code",
     "collapsed": false,
     "input": [
      "!python {sqls}fetchdata.py \\\n",
      "-s \"SELECT Distinct \\\n",
      "Column1 as ContigID, GOSlim_bin \\\n",
      "FROM [{usr}].[_blast_sprot]md \\\n",
      "left join \\\n",
      "[sr320@washington.edu].[SPID and GO Numbers]go \\\n",
      "on md.Column3=go.SPID \\\n",
      "left join \\\n",
      "[sr320@washington.edu].[GO_to_GOslim]slim on go.GOID=slim.GO_id \\\n",
      "where aspect like 'P'\" \\\n",
      "-f tsv \\\n",
      "-o ../analyses/{sp}_GOslim.tab"
     ],
     "language": "python",
     "metadata": {},
     "outputs": []
    },
    {
     "cell_type": "code",
     "collapsed": false,
     "input": [
      "pylab inline\n"
     ],
     "language": "python",
     "metadata": {},
     "outputs": []
    },
    {
     "cell_type": "code",
     "collapsed": false,
     "input": [
      "from pandas import *\n",
      "\n",
      "slim = read_table('../analyses/Ahyacinthus_GOslim.tab')"
     ],
     "language": "python",
     "metadata": {},
     "outputs": []
    },
    {
     "cell_type": "code",
     "collapsed": false,
     "input": [
      "slim.groupby('GOSlim_bin').ContigID.count().plot(kind='barh', color=list('y'))\n",
      "savefig('../analyses/Ahyacinthus_GOSlim-distinct.png', bbox_inches='tight')"
     ],
     "language": "python",
     "metadata": {},
     "outputs": []
    }
   ],
   "metadata": {}
  }
 ]
}