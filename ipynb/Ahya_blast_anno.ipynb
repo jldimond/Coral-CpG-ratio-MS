{
 "metadata": {
  "kernelspec": {
   "display_name": "Python 2",
   "language": "python",
   "name": "python2"
  },
  "language_info": {
   "codemirror_mode": {
    "name": "ipython",
    "version": 2
   },
   "file_extension": ".py",
   "mimetype": "text/x-python",
   "name": "python",
   "nbconvert_exporter": "python",
   "pygments_lexer": "ipython2",
   "version": "2.7.9"
  },
  "name": "",
  "signature": "sha256:e66ace66d492eb4b8a8c7c27ab39068ceabf57c4107b2797d6aeaeda30766542"
 },
 "nbformat": 3,
 "nbformat_minor": 0,
 "worksheets": [
  {
   "cells": [
    {
     "cell_type": "heading",
     "level": 1,
     "metadata": {},
     "source": [
      "Annotation of *Acropora hyacinthus* transcriptome "
     ]
    },
    {
     "cell_type": "markdown",
     "metadata": {},
     "source": [
      "This workflow details the annotation of an *Acropora hyacinthus* [transcriptome](http://palumbi.stanford.edu/data/33496_Ahyacinthus_CoralContigs.fasta.zip)\n",
      "\n",
      "The notebook requires you have the following \n",
      "- Blast version number link\n",
      "- SQLShare - linke\n",
      "\n",
      "The orginal analysis was carried out on OPERATING SYSTEM etc\n",
      "\n",
      "\n",
      "\n",
      "This workflow is structured so that anyone can reproduce the analysis be downloading the repository locally and executing."
     ]
    },
    {
     "cell_type": "code",
     "collapsed": false,
     "input": [
      "cd ../Data/Ahya"
     ],
     "language": "python",
     "metadata": {},
     "outputs": [
      {
       "output_type": "stream",
       "stream": "stdout",
       "text": [
        "/Users/sr320/git-repos/paper-Coral-CpG-ratio/data/Ahya\n"
       ]
      }
     ],
     "prompt_number": 2
    },
    {
     "cell_type": "code",
     "collapsed": false,
     "input": [
      "#Obtain FASTA file\n",
      "!wget http://palumbi.stanford.edu/data/33496_Ahyacinthus_CoralContigs.fasta.zip"
     ],
     "language": "python",
     "metadata": {},
     "outputs": [
      {
       "output_type": "stream",
       "stream": "stdout",
       "text": [
        "--2015-06-14 07:46:09--  http://palumbi.stanford.edu/data/33496_Ahyacinthus_CoralContigs.fasta.zip\r\n",
        "Resolving palumbi.stanford.edu... "
       ]
      },
      {
       "output_type": "stream",
       "stream": "stdout",
       "text": [
        "171.66.247.55\r\n",
        "Connecting to palumbi.stanford.edu|171.66.247.55|:80... "
       ]
      },
      {
       "output_type": "stream",
       "stream": "stdout",
       "text": [
        "connected.\r\n",
        "HTTP request sent, awaiting response... "
       ]
      },
      {
       "output_type": "stream",
       "stream": "stdout",
       "text": [
        "200 OK\r\n",
        "Length: 4711971 (4.5M) [application/zip]\r\n",
        "Saving to: `33496_Ahyacinthus_CoralContigs.fasta.zip'\r\n",
        "\r\n",
        "\r",
        " 0% [                                       ] 0           --.-K/s              "
       ]
      },
      {
       "output_type": "stream",
       "stream": "stdout",
       "text": [
        "\r",
        " 2% [                                       ] 108,303      476K/s              "
       ]
      },
      {
       "output_type": "stream",
       "stream": "stdout",
       "text": [
        "\r",
        " 4% [>                                      ] 205,319      461K/s              "
       ]
      },
      {
       "output_type": "stream",
       "stream": "stdout",
       "text": [
        "\r",
        " 6% [=>                                     ] 287,855      441K/s              "
       ]
      },
      {
       "output_type": "stream",
       "stream": "stdout",
       "text": [
        "\r",
        "13% [====>                                  ] 622,719      726K/s              "
       ]
      },
      {
       "output_type": "stream",
       "stream": "stdout",
       "text": [
        "\r",
        "15% [====>                                  ] 713,567      631K/s              "
       ]
      },
      {
       "output_type": "stream",
       "stream": "stdout",
       "text": [
        "\r",
        "28% [=========>                             ] 1,324,623    986K/s              "
       ]
      },
      {
       "output_type": "stream",
       "stream": "stdout",
       "text": [
        "\r",
        "37% [=============>                         ] 1,754,679   1.08M/s              "
       ]
      },
      {
       "output_type": "stream",
       "stream": "stdout",
       "text": [
        "\r",
        "52% [===================>                   ] 2,459,855   1.33M/s              "
       ]
      },
      {
       "output_type": "stream",
       "stream": "stdout",
       "text": [
        "\r",
        "68% [=========================>             ] 3,218,607   1.56M/s              "
       ]
      },
      {
       "output_type": "stream",
       "stream": "stdout",
       "text": [
        "\r",
        "80% [==============================>        ] 3,783,327   1.65M/s              "
       ]
      },
      {
       "output_type": "stream",
       "stream": "stdout",
       "text": [
        "\r",
        "87% [=================================>     ] 4,126,503   1.63M/s              "
       ]
      },
      {
       "output_type": "stream",
       "stream": "stdout",
       "text": [
        "\r",
        "100%[======================================>] 4,711,971   1.75M/s   in 2.6s    \r\n",
        "\r\n"
       ]
      },
      {
       "output_type": "stream",
       "stream": "stdout",
       "text": [
        "2015-06-14 07:46:12 (1.75 MB/s) - `33496_Ahyacinthus_CoralContigs.fasta.zip' saved [4711971/4711971]\r\n",
        "\r\n"
       ]
      }
     ],
     "prompt_number": 3
    },
    {
     "cell_type": "code",
     "collapsed": false,
     "input": [
      "!head 33496_Ahyacinthus_CoralContigs.fasta"
     ],
     "language": "python",
     "metadata": {},
     "outputs": [
      {
       "output_type": "stream",
       "stream": "stdout",
       "text": [
        ">contig27\r\n",
        "CAAAATTCCAGCACTCCGTTTTGCATGGTAAACTTGTCTTAGTAGGACACTGTGGAAGATGTACAGCGCAAGACATCACAGTTGCAAGCGCCGACGAACAGCTGTTAAACTCTCCTCTCATATTCTCGAACAAACCAAATATTTCTTCCTCTCTGTTGTTGCTAACCTTTGAATATATGAAGCTGGCATTAGCACAGGACTCAAAGTTTCCGCCGAGCAGTTT\r\n",
        ">contig88\r\n",
        "TGTCCTGTGTTAGAGGCCAGCTTCAACCTCTTGCTTTCCCTGTCAGCCGAGTTTTCTTCTCCTTCAATAAGCTGGGATTTTCGATCTCTACTCAATGTTTCCATCAAACACCTGAGAGTTAAATCTGCCAGATAACGAAGAAATCCTCTTGCTAGAATACTTTTCAAAAGCCCTTCTTCATACATTGATCTTATCCCATTGCAAATTGCGTTGG\r\n",
        ">contig100\r\n",
        "TTCAGAACTATTCTCCGCCACACAGGGATAAATGGTCTTCACTTTCTTAGGTGTTTTTGTCTGTGGTGATGGTGTGGGTTCCTCCTGTGGGGGAGGTTCTCTTGGGAGTGGGGGTGGTCGTGTTCCCCATGACTGTATCCCCCTGTTTAGGCTCCCACCCTGACTGCTGACACGGCGTATTGCATGGGCAGAGCCCTTGTCATTCCTGCCCTTGTCATTC\r\n",
        ">contig211\r\n",
        "TGGGGCGATCAGGTCACCAACGAAATTGTCCGACAAGTCATGGAGATGAAAGGGTTTTATAGTCTCGACAAACCCGGTGAATTTACCAGCATAGTGGATCTTCAGTTTGTGGCAGCTATGATCCAGCCCGGTGGGGGCCGCAATGACATCCCAAGTCGTCTGAAAAGGCAGTTTACCATCCTCAACTGCACGCTTCCCGCAAATGCGTCCATCGATAAGATCTTTAGCTCTATCGGCTGTGGTTACTTCAACACTGAGCGCGGTTTCC\r\n",
        ">contig405\r\n",
        "ATTTTTAATTATTAAAGTTAGTTTTCCTTCTTTGTGAAGACTCAGTGCTTACTATCACATTTGTTTGTCATGCTCGTATCAAGACCACCGAGGTCTTGAGTGAGTGATACCATATGTACTTTCTGTACCTCATTTCCTCAATTTCATGACAGACCGCCTATTCTTCTTGATGTGCTTGATTTGAAATGGCATCGGATGGCAATACTTGATGAAATTTCCGGTGTGGCGTGAAGAACTTTGAA\r\n"
       ]
      }
     ],
     "prompt_number": 4
    },
    {
     "cell_type": "code",
     "collapsed": false,
     "input": [
      "#Count number of seqs\n",
      "!fgrep -c \">\" 33496_Ahyacinthus_CoralContigs.fasta"
     ],
     "language": "python",
     "metadata": {},
     "outputs": [
      {
       "output_type": "stream",
       "stream": "stdout",
       "text": [
        "33496\r\n"
       ]
      }
     ],
     "prompt_number": 5
    },
    {
     "cell_type": "heading",
     "level": 3,
     "metadata": {},
     "source": [
      "Blastx query"
     ]
    },
    {
     "cell_type": "code",
     "collapsed": false,
     "input": [
      "!blastx \\\n",
      "-query 33496_Ahyacinthus_CoralContigs.fasta \\ #FASTA file\n",
      "-db ~blast/db/uniprot_sprot \\ #Use your blastx database address\n",
      "-max_target_seqs 1 \\ #maximum number of target sequences = 1\n",
      "-max_hsps 1 \\ #maximum number of high-scoring pairs = 1\n",
      "-outfmt 6 \\ #output format = tabular\n",
      "-evalue 1E-05 \\ #E-value = 10^-5\n",
      "-num_threads 8 \\ #number of threads = 8\n",
      "-out ../Analyses/Ahya/Ahya_blastx_uniprot.tab \\ #Direct output to analyses directory\n",
      "2> ../Analyses/Ahya/Ahya_blastx_uniprot.error #Direct standard error output to its own file"
     ],
     "language": "python",
     "metadata": {},
     "outputs": [],
     "prompt_number": null
    },
    {
     "cell_type": "code",
     "collapsed": false,
     "input": [
      "#Checking head and tail of the output file.\n",
      "!head -10 ./Analyses/Ahya/Ahya_blastx_uniprot.tab"
     ],
     "language": "python",
     "metadata": {},
     "outputs": [
      {
       "output_type": "stream",
       "stream": "stdout",
       "text": [
        "contig211\tsp|Q96JB1|DYH8_HUMAN\t77.53\t89\t20\t0\t1\t267\t2533\t2621\t4e-44\t  158\r\n",
        "contig583\tsp|Q90828|DC1L1_CHICK\t51.95\t77\t32\t2\t1\t216\t140\t216\t9e-19\t83.2\r\n",
        "contig590\tsp|P25228|RAB3_DROME\t89.47\t57\t6\t0\t43\t213\t1\t57\t2e-28\t  106\r\n",
        "contig613\tsp|Q8NFA0|UBP32_HUMAN\t56.84\t95\t37\t2\t284\t3\t661\t752\t2e-27\t  110\r\n",
        "contig707\tsp|Q6ZTY8|CL063_HUMAN\t31.25\t176\t108\t4\t2\t499\t159\t331\t2e-17\t85.5\r\n",
        "contig799\tsp|Q5R5M6|PYGB_PONAB\t65.17\t89\t28\t2\t2\t268\t162\t247\t2e-36\t  135\r\n",
        "contig896\tsp|Q9R1C6|DGKE_MOUSE\t51.16\t129\t62\t1\t467\t81\t413\t540\t1e-40\t  147\r\n",
        "contig950\tsp|Q9NW07|ZN358_HUMAN\t56.88\t109\t47\t0\t9\t335\t261\t369\t2e-36\t  137\r\n",
        "contig962\tsp|O14672|ADA10_HUMAN\t36.28\t113\t58\t3\t327\t1\t237\t339\t2e-13\t70.1\r\n",
        "contig1129\tsp|A2AJ76|HMCN2_MOUSE\t42.37\t59\t34\t0\t233\t57\t4372\t4430\t5e-07\t50.4\r\n"
       ]
      }
     ],
     "prompt_number": 9
    },
    {
     "cell_type": "code",
     "collapsed": false,
     "input": [
      "!wc ./Analyses/Ahya/Ahya_blastx_uniprot.tab"
     ],
     "language": "python",
     "metadata": {},
     "outputs": [
      {
       "output_type": "stream",
       "stream": "stdout",
       "text": [
        "   11594  139128  899613 /Volumes/Eagle/fish546-2015/Analyses/Ahya/Ahya_blastx_uniprot.tab\r\n"
       ]
      }
     ],
     "prompt_number": 11
    },
    {
     "cell_type": "code",
     "collapsed": false,
     "input": [
      "#Removing pipes and converted to tab-delimited file\n",
      "!tr '|' \"\\t\" <./Analyses/Ahya/Ahya_blastx_uniprot.tab> \\\n",
      "./Analyses/Ahya/Ahya_blastx_uniprot_sql.tab\n",
      "!head -1 ./Analyses/Ahya/Ahya_blastx_uniprot.tab\n",
      "!echo SQLShare ready version has Pipes converted to Tabs ....\n",
      "!head -1 ./Analyses/Ahya/Ahya_blastx_uniprot_sql.tab"
     ],
     "language": "python",
     "metadata": {},
     "outputs": [
      {
       "output_type": "stream",
       "stream": "stdout",
       "text": [
        "contig211\tsp|Q96JB1|DYH8_HUMAN\t77.53\t89\t20\t0\t1\t267\t2533\t2621\t4e-44\t  158\n",
        "SQLShare ready version has Pipes converted to Tabs ....\n",
        "contig211\tsp\tQ96JB1\tDYH8_HUMAN\t77.53\t89\t20\t0\t1\t267\t2533\t2621\t4e-44\t  158\n"
       ]
      }
     ],
     "prompt_number": 12
    },
    {
     "cell_type": "heading",
     "level": 3,
     "metadata": {},
     "source": [
      "Manually uploading Ahya_blastx_uniprot_sql.tab to SQLShare and joining with GOSlim"
     ]
    },
    {
     "cell_type": "markdown",
     "metadata": {},
     "source": [
      "`SELECT Distinct Column1 as ContigID, GOSlim_bin FROM\n",
      "  [jldimond@washington.edu].[Ahya_blastx_uniprot_sql.tab]anno\n",
      "  left join [sr320@washington.edu].[SPID and GO Numbers]go\n",
      "  on anno.Column3=go.SPID\n",
      "  left join [sr320@washington.edu].[GO_to_GOslim]slim\n",
      "  on go.GOID=slim.GO_id where aspect like 'P'`"
     ]
    },
    {
     "cell_type": "heading",
     "level": 4,
     "metadata": {},
     "source": [
      "Output file downloaded to ./Analyses/Ahya: Ahya_GOSlim.csv"
     ]
    },
    {
     "cell_type": "code",
     "collapsed": false,
     "input": [
      "!head -10 ./Analyses/Ahya/Ahya_GOSlim.csv"
     ],
     "language": "python",
     "metadata": {},
     "outputs": [
      {
       "output_type": "stream",
       "stream": "stdout",
       "text": [
        "ContigID,GOSlim_bin\r",
        "\r\n",
        "contig135011_153678_153601,cell organization and biogenesis\r",
        "\r\n",
        "contig135011_153678_153601,other biological processes\r",
        "\r\n",
        "contig135011_153678_153601,developmental processes\r",
        "\r\n",
        "contig69684,protein metabolism\r",
        "\r\n",
        "contig113621,protein metabolism\r",
        "\r\n",
        "contig97647,protein metabolism\r",
        "\r\n",
        "contig199902,protein metabolism\r",
        "\r\n",
        "contig78855,other biological processes\r",
        "\r\n",
        "contig8505_94477,DNA metabolism\r",
        "\r\n"
       ]
      }
     ],
     "prompt_number": 17
    },
    {
     "cell_type": "code",
     "collapsed": false,
     "input": [
      "#Converting from comma to tab delimited\n",
      "!tr ',' \"\\t\" <./Analyses/Ahya/Ahya_GOSlim.csv> ./Analyses/Ahya/Ahya_GOSlim.tab"
     ],
     "language": "python",
     "metadata": {},
     "outputs": [],
     "prompt_number": 18
    },
    {
     "cell_type": "code",
     "collapsed": false,
     "input": [
      "!head -10 ./Analyses/Ahya/Ahya_GOSlim.tab"
     ],
     "language": "python",
     "metadata": {},
     "outputs": [
      {
       "output_type": "stream",
       "stream": "stdout",
       "text": [
        "ContigID\tGOSlim_bin\r",
        "\r\n",
        "contig135011_153678_153601\tcell organization and biogenesis\r",
        "\r\n",
        "contig135011_153678_153601\tother biological processes\r",
        "\r\n",
        "contig135011_153678_153601\tdevelopmental processes\r",
        "\r\n",
        "contig69684\tprotein metabolism\r",
        "\r\n",
        "contig113621\tprotein metabolism\r",
        "\r\n",
        "contig97647\tprotein metabolism\r",
        "\r\n",
        "contig199902\tprotein metabolism\r",
        "\r\n",
        "contig78855\tother biological processes\r",
        "\r\n",
        "contig8505_94477\tDNA metabolism\r",
        "\r\n"
       ]
      }
     ],
     "prompt_number": 19
    }
   ],
   "metadata": {}
  }
 ]
}